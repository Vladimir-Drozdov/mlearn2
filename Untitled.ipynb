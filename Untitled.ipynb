{
 "cells": [
  {
   "cell_type": "code",
   "execution_count": 1,
   "id": "79da92ae-0743-4bcc-81c5-a97fdd97d484",
   "metadata": {
    "execution": {
     "iopub.execute_input": "2023-12-16T18:12:14.884777Z",
     "iopub.status.busy": "2023-12-16T18:12:14.884777Z",
     "iopub.status.idle": "2023-12-16T18:12:14.895401Z",
     "shell.execute_reply": "2023-12-16T18:12:14.895401Z"
    },
    "papermill": {
     "duration": 0.017345,
     "end_time": "2023-12-16T18:12:14.896937",
     "exception": false,
     "start_time": "2023-12-16T18:12:14.879592",
     "status": "completed"
    },
    "tags": []
   },
   "outputs": [
    {
     "name": "stdout",
     "output_type": "stream",
     "text": [
      "10\n"
     ]
    }
   ],
   "source": [
    "print(10)"
   ]
  }
 ],
 "metadata": {
  "kernelspec": {
   "display_name": "Python 3 (ipykernel)",
   "language": "python",
   "name": "python3"
  },
  "language_info": {
   "codemirror_mode": {
    "name": "ipython",
    "version": 3
   },
   "file_extension": ".py",
   "mimetype": "text/x-python",
   "name": "python",
   "nbconvert_exporter": "python",
   "pygments_lexer": "ipython3",
   "version": "3.11.5"
  },
  "papermill": {
   "default_parameters": {},
   "duration": 1.595188,
   "end_time": "2023-12-16T18:12:15.135140",
   "environment_variables": {},
   "exception": null,
   "input_path": "C:\\pythonProject4\\Untitled.ipynb",
   "output_path": "C:\\pythonProject4\\Untitled.ipynb",
   "parameters": {},
   "start_time": "2023-12-16T18:12:13.539952",
   "version": "2.5.0"
  }
 },
 "nbformat": 4,
 "nbformat_minor": 5
}