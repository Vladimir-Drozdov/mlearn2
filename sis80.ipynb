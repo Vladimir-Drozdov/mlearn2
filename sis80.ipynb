{
 "cells": [
  {
   "cell_type": "code",
   "execution_count": 1,
   "id": "129f295f-9efd-4156-ab27-35c0f35ec42c",
   "metadata": {
    "execution": {
     "iopub.execute_input": "2023-11-17T17:47:49.200053Z",
     "iopub.status.busy": "2023-11-17T17:47:49.200053Z",
     "iopub.status.idle": "2023-11-17T17:47:49.223368Z",
     "shell.execute_reply": "2023-11-17T17:47:49.221854Z"
    },
    "papermill": {
     "duration": 0.0339,
     "end_time": "2023-11-17T17:47:49.225885",
     "exception": false,
     "start_time": "2023-11-17T17:47:49.191985",
     "status": "completed"
    },
    "tags": []
   },
   "outputs": [
    {
     "name": "stdout",
     "output_type": "stream",
     "text": [
      "80\n"
     ]
    }
   ],
   "source": [
    "s=80\n",
    "print(s)\n"
   ]
  },
  {
   "cell_type": "markdown",
   "id": "ef83208b-4078-41cf-8306-a7494e0cf540",
   "metadata": {
    "papermill": {
     "duration": 0.006768,
     "end_time": "2023-11-17T17:47:49.232653",
     "exception": false,
     "start_time": "2023-11-17T17:47:49.225885",
     "status": "completed"
    },
    "tags": []
   },
   "source": [
    "Session1\n"
   ]
  },
  {
   "cell_type": "raw",
   "id": "0bd440c6-a521-4469-85e2-eadd9e78b34a",
   "metadata": {
    "papermill": {
     "duration": 0.002769,
     "end_time": "2023-11-17T17:47:49.241924",
     "exception": false,
     "start_time": "2023-11-17T17:47:49.239155",
     "status": "completed"
    },
    "tags": []
   },
   "source": [
    "s3ssion2"
   ]
  },
  {
   "cell_type": "markdown",
   "id": "63ff4916-cf5f-4e02-a673-806bfe0a006b",
   "metadata": {
    "papermill": {
     "duration": 0.004644,
     "end_time": "2023-11-17T17:47:49.249091",
     "exception": false,
     "start_time": "2023-11-17T17:47:49.244447",
     "status": "completed"
    },
    "tags": []
   },
   "source": [
    "section1"
   ]
  },
  {
   "cell_type": "code",
   "execution_count": null,
   "id": "946e935d-985d-44dd-9358-bb9be3fe404d",
   "metadata": {
    "papermill": {
     "duration": 0.006326,
     "end_time": "2023-11-17T17:47:49.258419",
     "exception": false,
     "start_time": "2023-11-17T17:47:49.252093",
     "status": "completed"
    },
    "tags": []
   },
   "outputs": [],
   "source": []
  }
 ],
 "metadata": {
  "kernelspec": {
   "display_name": "Python 3 (ipykernel)",
   "language": "python",
   "name": "python3"
  },
  "language_info": {
   "codemirror_mode": {
    "name": "ipython",
    "version": 3
   },
   "file_extension": ".py",
   "mimetype": "text/x-python",
   "name": "python",
   "nbconvert_exporter": "python",
   "pygments_lexer": "ipython3",
   "version": "3.11.5"
  },
  "papermill": {
   "default_parameters": {},
   "duration": 2.163175,
   "end_time": "2023-11-17T17:47:49.519998",
   "environment_variables": {},
   "exception": null,
   "input_path": "C:\\c python coding\\sis80.ipynb",
   "output_path": "C:\\c python coding\\sis80.ipynb",
   "parameters": {},
   "start_time": "2023-11-17T17:47:47.356823",
   "version": "2.5.0"
  }
 },
 "nbformat": 4,
 "nbformat_minor": 5
}