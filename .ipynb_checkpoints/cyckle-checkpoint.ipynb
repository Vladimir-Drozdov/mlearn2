{
 "cells": [
  {
   "cell_type": "code",
   "execution_count": 1,
   "id": "58a6c3d6-40ba-4e5c-9d64-4392dd985486",
   "metadata": {
    "execution": {
     "iopub.execute_input": "2023-11-17T16:47:56.058677Z",
     "iopub.status.busy": "2023-11-17T16:47:56.058677Z",
     "iopub.status.idle": "2023-11-17T16:47:56.080714Z",
     "shell.execute_reply": "2023-11-17T16:47:56.080714Z"
    },
    "papermill": {
     "duration": 0.02375,
     "end_time": "2023-11-17T16:47:56.082427",
     "exception": false,
     "start_time": "2023-11-17T16:47:56.058677",
     "status": "completed"
    },
    "tags": []
   },
   "outputs": [
    {
     "name": "stdout",
     "output_type": "stream",
     "text": [
      "0\n",
      "1\n",
      "2\n",
      "3\n",
      "4\n",
      "5\n",
      "6\n",
      "7\n",
      "8\n",
      "9\n"
     ]
    }
   ],
   "source": [
    "for i in range(10):\n",
    "    print(i)"
   ]
  },
  {
   "cell_type": "markdown",
   "id": "5ebddb8e-621e-4bc5-9e04-d5dd636d10e8",
   "metadata": {
    "papermill": {
     "duration": 0.002603,
     "end_time": "2023-11-17T16:47:56.092771",
     "exception": false,
     "start_time": "2023-11-17T16:47:56.090168",
     "status": "completed"
    },
    "tags": []
   },
   "source": []
  },
  {
   "cell_type": "code",
   "execution_count": null,
   "id": "944b296f-3b39-47c0-9957-e8fa28fbe306",
   "metadata": {
    "papermill": {
     "duration": 0.002785,
     "end_time": "2023-11-17T16:47:56.098720",
     "exception": false,
     "start_time": "2023-11-17T16:47:56.095935",
     "status": "completed"
    },
    "tags": []
   },
   "outputs": [],
   "source": []
  },
  {
   "cell_type": "code",
   "execution_count": null,
   "id": "9f06832a-664d-4faa-ae40-ac619e262071",
   "metadata": {
    "papermill": {
     "duration": 0.004093,
     "end_time": "2023-11-17T16:47:56.106253",
     "exception": false,
     "start_time": "2023-11-17T16:47:56.102160",
     "status": "completed"
    },
    "tags": []
   },
   "outputs": [],
   "source": [
    "ds=45"
   ]
  }
 ],
 "metadata": {
  "kernelspec": {
   "display_name": "Python 3 (ipykernel)",
   "language": "python",
   "name": "python3"
  },
  "language_info": {
   "codemirror_mode": {
    "name": "ipython",
    "version": 3
   },
   "file_extension": ".py",
   "mimetype": "text/x-python",
   "name": "python",
   "nbconvert_exporter": "python",
   "pygments_lexer": "ipython3",
   "version": "3.11.5"
  },
  "papermill": {
   "default_parameters": {},
   "duration": 2.685231,
   "end_time": "2023-11-17T16:47:56.385411",
   "environment_variables": {},
   "exception": null,
   "input_path": "C:\\c python coding\\cyckle.ipynb",
   "output_path": "C:\\c python coding\\cyckle.ipynb",
   "parameters": {},
   "start_time": "2023-11-17T16:47:53.700180",
   "version": "2.5.0"
  }
 },
 "nbformat": 4,
 "nbformat_minor": 5
}
