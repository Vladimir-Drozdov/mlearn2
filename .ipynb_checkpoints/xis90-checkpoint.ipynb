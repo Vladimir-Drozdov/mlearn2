{
 "cells": [
  {
   "cell_type": "code",
   "execution_count": 1,
   "id": "53b32e46-6ca5-4a06-a92f-8727cdb46cf6",
   "metadata": {
    "execution": {
     "iopub.execute_input": "2023-11-17T16:53:42.927161Z",
     "iopub.status.busy": "2023-11-17T16:53:42.925615Z",
     "iopub.status.idle": "2023-11-17T16:53:42.948050Z",
     "shell.execute_reply": "2023-11-17T16:53:42.948050Z"
    },
    "papermill": {
     "duration": 0.116415,
     "end_time": "2023-11-17T16:53:42.984210",
     "exception": false,
     "start_time": "2023-11-17T16:53:42.867795",
     "status": "completed"
    },
    "tags": []
   },
   "outputs": [
    {
     "name": "stdout",
     "output_type": "stream",
     "text": [
      "90\n"
     ]
    }
   ],
   "source": [
    "x=90\n",
    "print(x)"
   ]
  },
  {
   "cell_type": "code",
   "execution_count": null,
   "id": "6f16175f-2e3c-40a3-b59e-ebd6b61f9230",
   "metadata": {
    "papermill": {
     "duration": 0.005494,
     "end_time": "2023-11-17T16:53:42.996045",
     "exception": false,
     "start_time": "2023-11-17T16:53:42.990551",
     "status": "completed"
    },
    "tags": []
   },
   "outputs": [],
   "source": [
    "print(1)"
   ]
  }
 ],
 "metadata": {
  "kernelspec": {
   "display_name": "Python 3 (ipykernel)",
   "language": "python",
   "name": "python3"
  },
  "language_info": {
   "codemirror_mode": {
    "name": "ipython",
    "version": 3
   },
   "file_extension": ".py",
   "mimetype": "text/x-python",
   "name": "python",
   "nbconvert_exporter": "python",
   "pygments_lexer": "ipython3",
   "version": "3.11.5"
  },
  "papermill": {
   "default_parameters": {},
   "duration": 4.193356,
   "end_time": "2023-11-17T16:53:45.730196",
   "environment_variables": {},
   "exception": null,
   "input_path": "C:\\c python coding\\xis90.ipynb",
   "output_path": "C:\\c python coding\\xis90.ipynb",
   "parameters": {},
   "start_time": "2023-11-17T16:53:41.536840",
   "version": "2.5.0"
  }
 },
 "nbformat": 4,
 "nbformat_minor": 5
}
