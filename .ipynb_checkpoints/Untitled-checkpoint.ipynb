{
 "cells": [
  {
   "cell_type": "code",
   "execution_count": 1,
   "id": "79da92ae-0743-4bcc-81c5-a97fdd97d484",
   "metadata": {
    "execution": {
     "iopub.execute_input": "2023-12-16T16:13:39.448044Z",
     "iopub.status.busy": "2023-12-16T16:13:39.448044Z",
     "iopub.status.idle": "2023-12-16T16:13:39.473691Z",
     "shell.execute_reply": "2023-12-16T16:13:39.473183Z"
    },
    "papermill": {
     "duration": 0.030254,
     "end_time": "2023-12-16T16:13:39.476473",
     "exception": false,
     "start_time": "2023-12-16T16:13:39.446219",
     "status": "completed"
    },
    "tags": []
   },
   "outputs": [
    {
     "name": "stdout",
     "output_type": "stream",
     "text": [
      "9\n"
     ]
    }
   ],
   "source": [
    "print(10)"
   ]
  }
 ],
 "metadata": {
  "kernelspec": {
   "display_name": "Python 3 (ipykernel)",
   "language": "python",
   "name": "python3"
  },
  "language_info": {
   "codemirror_mode": {
    "name": "ipython",
    "version": 3
   },
   "file_extension": ".py",
   "mimetype": "text/x-python",
   "name": "python",
   "nbconvert_exporter": "python",
   "pygments_lexer": "ipython3",
   "version": "3.11.5"
  },
  "papermill": {
   "default_parameters": {},
   "duration": 1.582214,
   "end_time": "2023-12-16T16:13:39.706023",
   "environment_variables": {},
   "exception": null,
   "input_path": "C:\\pythonProject4\\Untitled.ipynb",
   "output_path": "C:\\pythonProject4\\Untitled.ipynb",
   "parameters": {},
   "start_time": "2023-12-16T16:13:38.123809",
   "version": "2.5.0"
  }
 },
 "nbformat": 4,
 "nbformat_minor": 5
}
