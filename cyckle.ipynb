{
 "cells": [
  {
   "cell_type": "code",
   "execution_count": 1,
   "id": "58a6c3d6-40ba-4e5c-9d64-4392dd985486",
   "metadata": {
    "execution": {
     "iopub.execute_input": "2023-11-17T17:47:42.386844Z",
     "iopub.status.busy": "2023-11-17T17:47:42.385250Z",
     "iopub.status.idle": "2023-11-17T17:47:42.408848Z",
     "shell.execute_reply": "2023-11-17T17:47:42.408848Z"
    },
    "papermill": {
     "duration": 0.032211,
     "end_time": "2023-11-17T17:47:42.412108",
     "exception": false,
     "start_time": "2023-11-17T17:47:42.379897",
     "status": "completed"
    },
    "tags": []
   },
   "outputs": [
    {
     "name": "stdout",
     "output_type": "stream",
     "text": [
      "0\n",
      "1\n",
      "2\n",
      "3\n",
      "4\n",
      "5\n",
      "6\n",
      "7\n",
      "8\n",
      "9\n"
     ]
    }
   ],
   "source": [
    "for i in range(10):\n",
    "    print(i)"
   ]
  },
  {
   "cell_type": "markdown",
   "id": "5ebddb8e-621e-4bc5-9e04-d5dd636d10e8",
   "metadata": {
    "papermill": {
     "duration": 0.008359,
     "end_time": "2023-11-17T17:47:42.420467",
     "exception": false,
     "start_time": "2023-11-17T17:47:42.412108",
     "status": "completed"
    },
    "tags": []
   },
   "source": []
  },
  {
   "cell_type": "code",
   "execution_count": null,
   "id": "944b296f-3b39-47c0-9957-e8fa28fbe306",
   "metadata": {
    "papermill": {
     "duration": 0.006511,
     "end_time": "2023-11-17T17:47:42.426978",
     "exception": false,
     "start_time": "2023-11-17T17:47:42.420467",
     "status": "completed"
    },
    "tags": []
   },
   "outputs": [],
   "source": []
  },
  {
   "cell_type": "code",
   "execution_count": 2,
   "id": "9f06832a-664d-4faa-ae40-ac619e262071",
   "metadata": {
    "execution": {
     "iopub.execute_input": "2023-11-17T17:47:42.426978Z",
     "iopub.status.busy": "2023-11-17T17:47:42.426978Z",
     "iopub.status.idle": "2023-11-17T17:47:42.445258Z",
     "shell.execute_reply": "2023-11-17T17:47:42.445258Z"
    },
    "papermill": {
     "duration": 0.021025,
     "end_time": "2023-11-17T17:47:42.448003",
     "exception": false,
     "start_time": "2023-11-17T17:47:42.426978",
     "status": "completed"
    },
    "tags": []
   },
   "outputs": [],
   "source": [
    "ds=45"
   ]
  }
 ],
 "metadata": {
  "kernelspec": {
   "display_name": "Python 3 (ipykernel)",
   "language": "python",
   "name": "python3"
  },
  "language_info": {
   "codemirror_mode": {
    "name": "ipython",
    "version": 3
   },
   "file_extension": ".py",
   "mimetype": "text/x-python",
   "name": "python",
   "nbconvert_exporter": "python",
   "pygments_lexer": "ipython3",
   "version": "3.11.5"
  },
  "papermill": {
   "default_parameters": {},
   "duration": 5.879738,
   "end_time": "2023-11-17T17:47:45.685250",
   "environment_variables": {},
   "exception": null,
   "input_path": "C:\\c python coding\\cyckle.ipynb",
   "output_path": "C:\\c python coding\\cyckle.ipynb",
   "parameters": {},
   "start_time": "2023-11-17T17:47:39.805512",
   "version": "2.5.0"
  }
 },
 "nbformat": 4,
 "nbformat_minor": 5
}