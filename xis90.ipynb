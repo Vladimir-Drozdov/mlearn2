{
 "cells": [
  {
   "cell_type": "code",
   "execution_count": 1,
   "id": "53b32e46-6ca5-4a06-a92f-8727cdb46cf6",
   "metadata": {
    "execution": {
     "iopub.execute_input": "2023-11-17T17:47:47.058322Z",
     "iopub.status.busy": "2023-11-17T17:47:47.055493Z",
     "iopub.status.idle": "2023-11-17T17:47:47.070480Z",
     "shell.execute_reply": "2023-11-17T17:47:47.070480Z"
    },
    "papermill": {
     "duration": 0.01934,
     "end_time": "2023-11-17T17:47:47.073029",
     "exception": false,
     "start_time": "2023-11-17T17:47:47.053689",
     "status": "completed"
    },
    "tags": []
   },
   "outputs": [
    {
     "name": "stdout",
     "output_type": "stream",
     "text": [
      "90\n"
     ]
    }
   ],
   "source": [
    "x=90\n",
    "print(x)"
   ]
  },
  {
   "cell_type": "code",
   "execution_count": 2,
   "id": "6f16175f-2e3c-40a3-b59e-ebd6b61f9230",
   "metadata": {
    "execution": {
     "iopub.execute_input": "2023-11-17T17:47:47.078829Z",
     "iopub.status.busy": "2023-11-17T17:47:47.078829Z",
     "iopub.status.idle": "2023-11-17T17:47:47.085609Z",
     "shell.execute_reply": "2023-11-17T17:47:47.084495Z"
    },
    "papermill": {
     "duration": 0.012553,
     "end_time": "2023-11-17T17:47:47.087310",
     "exception": false,
     "start_time": "2023-11-17T17:47:47.074757",
     "status": "completed"
    },
    "tags": []
   },
   "outputs": [
    {
     "name": "stdout",
     "output_type": "stream",
     "text": [
      "1\n"
     ]
    }
   ],
   "source": [
    "print(1)"
   ]
  }
 ],
 "metadata": {
  "kernelspec": {
   "display_name": "Python 3 (ipykernel)",
   "language": "python",
   "name": "python3"
  },
  "language_info": {
   "codemirror_mode": {
    "name": "ipython",
    "version": 3
   },
   "file_extension": ".py",
   "mimetype": "text/x-python",
   "name": "python",
   "nbconvert_exporter": "python",
   "pygments_lexer": "ipython3",
   "version": "3.11.5"
  },
  "papermill": {
   "default_parameters": {},
   "duration": 1.600707,
   "end_time": "2023-11-17T17:47:47.324393",
   "environment_variables": {},
   "exception": null,
   "input_path": "C:\\c python coding\\xis90.ipynb",
   "output_path": "C:\\c python coding\\xis90.ipynb",
   "parameters": {},
   "start_time": "2023-11-17T17:47:45.723686",
   "version": "2.5.0"
  }
 },
 "nbformat": 4,
 "nbformat_minor": 5
}